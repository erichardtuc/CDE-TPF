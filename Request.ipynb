{
 "cells": [
  {
   "cell_type": "code",
   "execution_count": 1,
   "id": "c66cf6ae-ba4a-4a39-9523-012d602803e5",
   "metadata": {},
   "outputs": [],
   "source": [
    "import json\n",
    "import requests"
   ]
  },
  {
   "cell_type": "code",
   "execution_count": 2,
   "id": "c142179d-6b5f-4d27-8845-c29d8a98b332",
   "metadata": {},
   "outputs": [],
   "source": [
    "r = requests.post(\" https://2t0rszsrfd.execute-api.us-east-1.amazonaws.com/PROD/api-ml-model\", data=json.dumps({\"data\":\"20.57309, 40.395666,1\"}))"
   ]
  },
  {
   "cell_type": "code",
   "execution_count": 3,
   "id": "deb7311b-5681-4649-ad37-c862f784a963",
   "metadata": {},
   "outputs": [
    {
     "data": {
      "text/plain": [
       "b'40759.0'"
      ]
     },
     "execution_count": 3,
     "metadata": {},
     "output_type": "execute_result"
    }
   ],
   "source": [
    "r.content"
   ]
  },
  {
   "cell_type": "code",
   "execution_count": null,
   "id": "d1fe6f8a-2078-41a7-ae38-8cac8d933046",
   "metadata": {},
   "outputs": [],
   "source": []
  }
 ],
 "metadata": {
  "kernelspec": {
   "display_name": "Python 3 (ipykernel)",
   "language": "python",
   "name": "python3"
  },
  "language_info": {
   "codemirror_mode": {
    "name": "ipython",
    "version": 3
   },
   "file_extension": ".py",
   "mimetype": "text/x-python",
   "name": "python",
   "nbconvert_exporter": "python",
   "pygments_lexer": "ipython3",
   "version": "3.9.15"
  }
 },
 "nbformat": 4,
 "nbformat_minor": 5
}
