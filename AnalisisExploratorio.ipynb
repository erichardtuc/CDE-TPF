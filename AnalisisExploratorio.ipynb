{
 "cells": [
  {
   "cell_type": "markdown",
   "id": "b800a3ee",
   "metadata": {},
   "source": [
    "# Primeros pasos"
   ]
  },
  {
   "cell_type": "markdown",
   "id": "794f2fb0",
   "metadata": {},
   "source": [
    "### Importo Librerias"
   ]
  },
  {
   "cell_type": "code",
   "execution_count": 1,
   "id": "bebc9bd4",
   "metadata": {},
   "outputs": [],
   "source": [
    "import pandas as pd\n",
    "import numpy as np\n",
    "import matplotlib.pyplot as plt\n",
    "from sklearn import preprocessing\n",
    "from sklearn.neighbors import KNeighborsClassifier"
   ]
  },
  {
   "cell_type": "markdown",
   "id": "2113ec1e",
   "metadata": {},
   "source": [
    "### Cargo CSVs en listas"
   ]
  },
  {
   "cell_type": "code",
   "execution_count": 2,
   "id": "f05c31bb",
   "metadata": {},
   "outputs": [],
   "source": [
    "clients = []\n",
    "workshops = []\n",
    "names = ['customers','vehicles']\n",
    "names_workshop = ['workshops']\n",
    "\n",
    "for i in range(len(names)):\n",
    "    clients.append(pd.read_csv(f'table_{names[i]}.csv'))\n",
    "\n",
    "#workshops = []\n",
    "#workshops.append(pd.read_csv(f'C:/Users/Pent/Repos/ITBA/TP3/Datasets/table_workshops.csv'))\n",
    "\n",
    "for i in range(len(names_workshop)):\n",
    "    workshops.append(pd.read_csv(f'table_{names_workshop[i]}.csv'))"
   ]
  },
  {
   "cell_type": "markdown",
   "id": "5f138e54",
   "metadata": {},
   "source": [
    "# Limpieza"
   ]
  },
  {
   "cell_type": "markdown",
   "id": "c32fd574",
   "metadata": {},
   "source": [
    "### Elimino valores nulos y duplicados"
   ]
  },
  {
   "cell_type": "code",
   "execution_count": 3,
   "id": "ab63840b",
   "metadata": {},
   "outputs": [],
   "source": [
    "clients[0] = clients[0].dropna(subset = [\"dnb_prim_lon\"])\n",
    "clients[0] = clients[0].dropna(subset = [\"dnb_prim_lat\"])\n",
    "clients[0] = clients[0].dropna(subset = [\"dnb_sic_major\"])\n",
    "clients[0] = clients[0].drop_duplicates(subset = [\"customer_guid\"], keep='first')\n",
    "clients[1] = clients[1].dropna(subset = [\"vin\"])\n",
    "clients[1] = clients[1].drop_duplicates(subset = [\"vin\"], keep=False)\n",
    "workshops[0] = workshops[0].dropna(subset = [\"workshopcapacity\"])"
   ]
  },
  {
   "cell_type": "markdown",
   "id": "fa77c943",
   "metadata": {},
   "source": [
    "Como los csv de clientes y vehiculos estan unidos por la clave 'customer_guid', realizo un inner join entre ambas para poder obtener en un solo dataframe los datos de los vehiculos y clientes"
   ]
  },
  {
   "cell_type": "code",
   "execution_count": 4,
   "id": "5ba24ea2",
   "metadata": {},
   "outputs": [],
   "source": [
    "Global = pd.merge(left=clients[0],right=clients[1],left_on='customer_guid',right_on='customer_guid', validate='one_to_many')\n",
    "#Global = pd.DataFrame(clients[0])\n",
    "#Global_workshops = pd.merge(left=workshops[0],right=workshops[1],left_on='dealerid',right_on='dealerid',validate='many_to_one')\n",
    "Global_workshops = pd.DataFrame(workshops[0])"
   ]
  },
  {
   "cell_type": "markdown",
   "id": "0046ba2b",
   "metadata": {},
   "source": [
    "Para saber que tipo de vehiculo tiene cada cliente nos basamos en en el campo 'product', el cual si el vehiculo es un colectivo el mismo contiene la cadena '_B_'... caso contrario tiene '_T_', por lo tanto el resto de los caracteres del campo no son utiles para este problema "
   ]
  },
  {
   "cell_type": "markdown",
   "id": "ac271953",
   "metadata": {},
   "source": [
    "Entonces... Primero busco y renomobro las columnas _T_ = Camiones, _B_ = Colectivos\n",
    "si un cliente tiene los 2 es una _A_... luego borro los duplicados"
   ]
  },
  {
   "cell_type": "code",
   "execution_count": 5,
   "id": "52cf0584",
   "metadata": {},
   "outputs": [],
   "source": [
    "Global.loc[Global['product'].str.contains('_T_'), 'product'] = 'T'\n",
    "Global.loc[Global['product'].str.contains('_B_'), 'product'] = 'B'\n",
    "Global=Global.drop_duplicates(subset = ['customer_guid', 'product'], keep = 'last')\n",
    "\n",
    "Global['product'].mask(Global['customer_guid'].duplicated(keep=False), 'A', inplace=True)\n",
    "Global=Global.drop_duplicates(subset = ['customer_guid', 'product'], keep = 'last')"
   ]
  },
  {
   "cell_type": "markdown",
   "id": "c82f0b0b",
   "metadata": {},
   "source": [
    "Con esta conversion ya podemos saber si un cliente tiene colectivos, camiones o ambos y nos ayudara a distinguir el mejor taller para cada caso."
   ]
  },
  {
   "cell_type": "code",
   "execution_count": 6,
   "id": "03927bbe",
   "metadata": {},
   "outputs": [],
   "source": [
    "conditions = [\n",
    "    (Global['product'] == 'B'),\n",
    "    (Global['product'] == 'T'),\n",
    "    ]\n",
    "\n",
    "# create a list of the values we want to assign for each condition\n",
    "values = [1, 0]\n",
    "\n",
    "# create a new column and use np.select to assign values to it using our lists as arguments\n",
    "Global['bus'] = np.select(conditions, values)"
   ]
  },
  {
   "cell_type": "markdown",
   "id": "268cab9f",
   "metadata": {},
   "source": [
    "Borro los Dealers que no tienen talleres.\n",
    "Para facilitar el modelo y dado que solo hay un taller que solo ve colectivos y esta muy cercano a uno que ve ambos voy a eliminar dicho taller del dataframe"
   ]
  },
  {
   "cell_type": "code",
   "execution_count": 7,
   "id": "48b5ac18",
   "metadata": {},
   "outputs": [],
   "source": [
    "Global_workshops1 = Global_workshops[ (Global_workshops['servicebus'] == 0) & (Global_workshops['servicetruck'] <= 0) ].index\n",
    "Global_workshops.drop(Global_workshops1 , inplace=True)\n",
    "Global_workshops.drop(Global_workshops[Global_workshops['dealerid'] == 40925].index, inplace = True)"
   ]
  },
  {
   "cell_type": "markdown",
   "id": "0fab138a",
   "metadata": {},
   "source": [
    "## Reviso los datasets"
   ]
  },
  {
   "cell_type": "markdown",
   "id": "c4aea787",
   "metadata": {},
   "source": [
    "Primero los clientes y vehiculos, veo si las columnas tienen algun valor nulo"
   ]
  },
  {
   "cell_type": "code",
   "execution_count": 8,
   "id": "06bb6da1",
   "metadata": {},
   "outputs": [
    {
     "name": "stdout",
     "output_type": "stream",
     "text": [
      "-------------------------------------------------------CUSTOMERS--------------------------------------------------------\n",
      "<class 'pandas.core.frame.DataFrame'>\n",
      "Int64Index: 12282 entries, 0 to 12547\n",
      "Data columns (total 20 columns):\n",
      " #   Column                      Non-Null Count  Dtype  \n",
      "---  ------                      --------------  -----  \n",
      " 0   customer_key                12282 non-null  object \n",
      " 1   client_status               12282 non-null  object \n",
      " 2   source_country              12282 non-null  object \n",
      " 3   duns_primary_name           12282 non-null  object \n",
      " 4   role                        12282 non-null  object \n",
      " 5   addr_1                      12282 non-null  object \n",
      " 6   city                        12282 non-null  object \n",
      " 7   postalcode                  12282 non-null  object \n",
      " 8   country                     12282 non-null  object \n",
      " 9   dnb_prim_lat                12282 non-null  float64\n",
      " 10  dnb_prim_lon                12282 non-null  float64\n",
      " 11  vat_number                  12282 non-null  object \n",
      " 12  duns_number                 12282 non-null  int64  \n",
      " 13  customer_guid               12282 non-null  object \n",
      " 14  dnb_sic                     12282 non-null  int64  \n",
      " 15  dnb_sic_description         12282 non-null  object \n",
      " 16  dnb_sic_major               12282 non-null  object \n",
      " 17  dnb_sic_major_description   12282 non-null  object \n",
      " 18  dnb_nace_rev_2              12282 non-null  int64  \n",
      " 19  dnb_nace_rev_2_description  12282 non-null  object \n",
      "dtypes: float64(2), int64(3), object(15)\n",
      "memory usage: 2.0+ MB\n",
      "None\n",
      "\n",
      "\n",
      "--------------------------------------------------------VEHICLES--------------------------------------------------------\n",
      "<class 'pandas.core.frame.DataFrame'>\n",
      "Int64Index: 43738 entries, 1 to 46745\n",
      "Data columns (total 10 columns):\n",
      " #   Column         Non-Null Count  Dtype \n",
      "---  ------         --------------  ----- \n",
      " 0   vin            43738 non-null  object\n",
      " 1   product        43738 non-null  object\n",
      " 2   customer       43738 non-null  object\n",
      " 3   customer_key   43738 non-null  object\n",
      " 4   dealer         43738 non-null  object\n",
      " 5   dealer_key     43738 non-null  object\n",
      " 6   relationship   43738 non-null  object\n",
      " 7   cont_rel_id    43738 non-null  int64 \n",
      " 8   duns_number    43738 non-null  int64 \n",
      " 9   customer_guid  43738 non-null  object\n",
      "dtypes: int64(2), object(8)\n",
      "memory usage: 3.7+ MB\n",
      "None\n",
      "\n",
      "\n"
     ]
    }
   ],
   "source": [
    "for y in range(len(clients)):\n",
    "    print(names[y].upper().center(120, '-'))\n",
    "    print(clients[y].info())\n",
    "    print('\\n')"
   ]
  },
  {
   "cell_type": "markdown",
   "id": "9eb9a270",
   "metadata": {},
   "source": [
    "Ahora reviso los workshops"
   ]
  },
  {
   "cell_type": "code",
   "execution_count": 9,
   "id": "3d86415f",
   "metadata": {},
   "outputs": [
    {
     "name": "stdout",
     "output_type": "stream",
     "text": [
      "-------------------------------------------------------WORKSHOPS--------------------------------------------------------\n",
      "<class 'pandas.core.frame.DataFrame'>\n",
      "Int64Index: 93 entries, 0 to 94\n",
      "Data columns (total 16 columns):\n",
      " #   Column             Non-Null Count  Dtype  \n",
      "---  ------             --------------  -----  \n",
      " 0   businessunitcode   93 non-null     object \n",
      " 1   dealerid           93 non-null     int64  \n",
      " 2   scania_id          93 non-null     object \n",
      " 3   city               93 non-null     object \n",
      " 4   workshopname       93 non-null     object \n",
      " 5   longitude          93 non-null     float64\n",
      " 6   latitude           93 non-null     float64\n",
      " 7   selltruck          93 non-null     int64  \n",
      " 8   sellbus            93 non-null     int64  \n",
      " 9   servicetruck       93 non-null     int64  \n",
      " 10  servicebus         93 non-null     int64  \n",
      " 11  weekopenhours      93 non-null     float64\n",
      " 12  weekbreakhours     93 non-null     float64\n",
      " 13  numberworkplaces   93 non-null     float64\n",
      " 14  catchmentareatime  93 non-null     int64  \n",
      " 15  workshopcapacity   93 non-null     float64\n",
      "dtypes: float64(6), int64(6), object(4)\n",
      "memory usage: 14.4+ KB\n",
      "None\n",
      "\n",
      "\n"
     ]
    }
   ],
   "source": [
    "for y in range(len(workshops)):\n",
    "    print(names_workshop[y].upper().center(120, '-'))\n",
    "    print(workshops[y].info())\n",
    "    print('\\n')"
   ]
  },
  {
   "cell_type": "markdown",
   "id": "c4b17961",
   "metadata": {},
   "source": [
    "Ahora reviso si los valores son unicos:"
   ]
  },
  {
   "cell_type": "code",
   "execution_count": 10,
   "id": "129cb341",
   "metadata": {},
   "outputs": [
    {
     "name": "stdout",
     "output_type": "stream",
     "text": [
      "-------------------------------------------------------CUSTOMERS--------------------------------------------------------\n",
      "Total : 12282\n",
      "Customers : 12282 // Sin duplicados\n",
      "Postal code : 5385\n",
      "Client Status : 1 // NO VA\n",
      "Sic : 536\n",
      "Sic Major : 10\n",
      "Nace Rev : 283\n",
      "Source Country : 18\n",
      "Country : 1 // NO VA\n",
      "--------------------------------------------------------VEHICLES--------------------------------------------------------\n",
      "Total : 43738\n",
      "Vin : 43738\n",
      "Product : 43738\n",
      "Customers : 11820\n",
      "Dealers : 28\n",
      "Relationship : 1 // NO VA\n",
      "Duns Number : 11690\n",
      "-------------------------------------------------------WORKSHOPS--------------------------------------------------------\n",
      "Total : 93\n",
      "Business Code : 1 // NO VA\n",
      "Dealer ID : 93\n",
      "Scania ID : 93\n",
      "City : 91\n",
      "N° Workplaces : 20\n"
     ]
    }
   ],
   "source": [
    "print(names[0].upper().center(120, '-'))\n",
    "print(f\"Total : {len(clients[0])}\")\n",
    "print(f\"Customers : {clients[0].customer_guid.nunique()} // Sin duplicados\")\n",
    "print(f\"Postal code : {clients[0].postalcode.nunique()}\")\n",
    "print(f\"Client Status : {clients[0].client_status.nunique()} // NO VA\")\n",
    "print(f\"Sic : {clients[0].dnb_sic.nunique()}\")\n",
    "print(f\"Sic Major : {clients[0].dnb_sic_major.nunique()}\")\n",
    "print(f\"Nace Rev : {clients[0].dnb_nace_rev_2.nunique()}\")\n",
    "print(f\"Source Country : {clients[0].source_country.nunique()}\")\n",
    "print(f\"Country : {clients[0].country.nunique()} // NO VA\")\n",
    "\n",
    "print(names[1].upper().center(120, '-'))\n",
    "print(f\"Total : {len(clients[1])}\")\n",
    "print(f\"Vin : {clients[1].vin.nunique()}\")\n",
    "print(f\"Product : {clients[1]['product'].nunique()}\")\n",
    "print(f\"Customers : {clients[1].customer_guid.nunique()}\")\n",
    "print(f\"Dealers : {clients[1].dealer_key.nunique()}\")\n",
    "print(f\"Relationship : {clients[1].relationship.nunique()} // NO VA\")\n",
    "print(f\"Duns Number : {clients[1].duns_number.nunique()}\")\n",
    "\n",
    "print(names_workshop[0].upper().center(120, '-'))\n",
    "print(f\"Total : {len(workshops[0])}\")\n",
    "print(f\"Business Code : {workshops[0].businessunitcode.nunique()} // NO VA\")\n",
    "print(f\"Dealer ID : {workshops[0].dealerid.nunique()}\")\n",
    "print(f\"Scania ID : {workshops[0].scania_id.nunique()}\")\n",
    "print(f\"City : {workshops[0].city.nunique()}\")\n",
    "print(f\"N° Workplaces : {workshops[0].numberworkplaces.nunique()}\")\n"
   ]
  },
  {
   "cell_type": "markdown",
   "id": "c89fca1c",
   "metadata": {},
   "source": [
    "# Entrenamiento"
   ]
  },
  {
   "cell_type": "markdown",
   "id": "66e49bda",
   "metadata": {},
   "source": [
    "### Genero datos para entrenar el modelo"
   ]
  },
  {
   "cell_type": "markdown",
   "id": "8d7b2252",
   "metadata": {},
   "source": [
    "Datos de workshops"
   ]
  },
  {
   "cell_type": "code",
   "execution_count": 11,
   "id": "62a486da",
   "metadata": {},
   "outputs": [],
   "source": [
    "datos = Global_workshops[[\"longitude\",\"latitude\",\"servicebus\"]]\n",
    "clase = Global_workshops[\"dealerid\"]"
   ]
  },
  {
   "cell_type": "markdown",
   "id": "9502cb53",
   "metadata": {},
   "source": [
    "Datos de clientes"
   ]
  },
  {
   "cell_type": "code",
   "execution_count": 12,
   "id": "f2a11be8",
   "metadata": {},
   "outputs": [],
   "source": [
    "datosClientes = Global[[\"dnb_prim_lon\",\"dnb_prim_lat\",\"bus\"]]\n",
    "datosClientes.columns = ['longitude', 'latitude',\"servicebus\"]\n",
    "datosClientesBus = datosClientes[datosClientes['servicebus'] == 1]"
   ]
  },
  {
   "cell_type": "markdown",
   "id": "55937e66",
   "metadata": {},
   "source": [
    "## Graficos"
   ]
  },
  {
   "cell_type": "markdown",
   "id": "fb5f410b",
   "metadata": {},
   "source": [
    "Dispersion clientes vs workshops"
   ]
  },
  {
   "cell_type": "code",
   "execution_count": 13,
   "id": "5a7081cb",
   "metadata": {},
   "outputs": [
    {
     "data": {
      "image/png": "[encoded data removed]",
      "text/plain": [
       "<Figure size 432x288 with 1 Axes>"
      ]
     },
     "metadata": {
      "needs_background": "light"
     },
     "output_type": "display_data"
    }
   ],
   "source": [
    "#Código para graficar\n",
    "plt.scatter(datosClientes['longitude'],datosClientes['latitude'], marker=\"*\", color=\"green\", label=\"Clientes\") \n",
    "plt.scatter(datos['longitude'],datos['latitude'], c='black', label=\"workshops\")\n",
    "\n",
    "\n",
    "plt.ylabel(\"Longitute\")\n",
    "plt.xlabel(\"Latitude\")\n",
    "plt.legend(bbox_to_anchor=(1, 0.3))\n",
    "plt.show()"
   ]
  },
  {
   "cell_type": "markdown",
   "id": "ae6bc449",
   "metadata": {},
   "source": [
    "Ahora podemos ver la dispersion de los talleres que solo arreglan camiones vs los que arreglan ambos"
   ]
  },
  {
   "cell_type": "code",
   "execution_count": 18,
   "id": "75147efc",
   "metadata": {},
   "outputs": [
    {
     "data": {
      "image/png": "[encoded data removed]",
      "text/plain": [
       "<Figure size 432x288 with 1 Axes>"
      ]
     },
     "metadata": {
      "needs_background": "light"
     },
     "output_type": "display_data"
    }
   ],
   "source": [
    "all_workshop = Global_workshops[Global_workshops['servicebus'] == 1] \n",
    "truck_workshop = Global_workshops[Global_workshops['servicebus'] == 0] \n",
    "\n",
    "plt.scatter(truck_workshop['longitude'],truck_workshop['latitude'], c='blue', label=\"Truck Workshop\")\n",
    "plt.scatter(all_workshop['longitude'],all_workshop['latitude'], c='black', label=\"All Workshops\")\n",
    "plt.legend(bbox_to_anchor=(1, 0.5))\n",
    "plt.show()"
   ]
  },
  {
   "cell_type": "markdown",
   "id": "011fef52",
   "metadata": {},
   "source": [
    "### Entrenamos el modelo"
   ]
  },
  {
   "cell_type": "code",
   "execution_count": 20,
   "id": "c4aa0d26",
   "metadata": {},
   "outputs": [
    {
     "data": {
      "text/plain": [
       "KNeighborsClassifier(n_neighbors=1)"
      ]
     },
     "execution_count": 20,
     "metadata": {},
     "output_type": "execute_result"
    }
   ],
   "source": [
    "clasificador = KNeighborsClassifier(n_neighbors=1)\n",
    "\n",
    "clasificador.fit(datos, clase)"
   ]
  },
  {
   "cell_type": "markdown",
   "id": "d653e1ec",
   "metadata": {},
   "source": [
    "### Realizamos predicciones de prueba"
   ]
  },
  {
   "cell_type": "code",
   "execution_count": 21,
   "id": "a50c5ba1",
   "metadata": {},
   "outputs": [
    {
     "name": "stdout",
     "output_type": "stream",
     "text": [
      "Workshop: [40457 40846 40846 40784 40487 40620 40267 40650 40015 40457 40484 40360\n",
      " 40784 40650 40015 40340 40457 40595 40230 40210 40210 40487 40487 40360\n",
      " 40457 40410 40287 40340 40623 40680 40846 40288 40680 40483 40595 40599\n",
      " 40067 40770 40435 40015 40466 40487 40267 40814 40410 40846 40360 40015\n",
      " 40360 40457 40210 40210 40650 40585 40287 40287 40210 40680 40457 40067\n",
      " 40487 40286 40287 40554 40846 40266 40650 40487 40680 40410 40784 40360\n",
      " 40210 40680 40410 40680 40435 40457 40680 40487 40210 40846 40457 40585\n",
      " 40487 40210 40585 40457 40210 40680 40595 40585 40554 40770 40340 40680\n",
      " 40680 40487 40487 40015 40680 40286 40585 40554 40340 40340 40210 40680\n",
      " 40680 40435 40015 40585 40340 40360 40435 40770 40457 40784 40585 40435\n",
      " 40435 40340 40340 40680 40585 40680 40015 40585 40680 40680 40554 40680\n",
      " 40210 40278 40823 40585 40680 40680 40278 40784 40595 40680 40585 40680\n",
      " 40680 40286 40410 40620 40279 40585 40210 40340 40680 40554 40784 40435\n",
      " 40015 40585 40585 40585 40770 40487 40680 40287 40585 40595 40465 40784\n",
      " 40289 40435 40595 40286 40846 40585 40210 40067]\n"
     ]
    }
   ],
   "source": [
    "print(\"Workshop:\", clasificador.predict(datosClientesBus[datosClientesBus['servicebus'] == 1]))\n",
    "#print(\"Workshop:\", clasificador.predict(datosClientesBus_minmax))\n",
    "#print(\"Workshop:\", clasificador.predict(datosClientes_minmax))"
   ]
  }
 ],
 "metadata": {
  "kernelspec": {
   "display_name": "conda_python3",
   "language": "python",
   "name": "conda_python3"
  },
  "language_info": {
   "codemirror_mode": {
    "name": "ipython",
    "version": 3
   },
   "file_extension": ".py",
   "mimetype": "text/x-python",
   "name": "python",
   "nbconvert_exporter": "python",
   "pygments_lexer": "ipython3",
   "version": "3.8.12"
  }
 },
 "nbformat": 4,
 "nbformat_minor": 5
}
